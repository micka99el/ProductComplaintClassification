{
  "nbformat": 4,
  "nbformat_minor": 0,
  "metadata": {
    "colab": {
      "provenance": []
    },
    "kernelspec": {
      "name": "python3",
      "display_name": "Python 3"
    },
    "language_info": {
      "name": "python"
    }
  },
  "cells": [
    {
      "cell_type": "markdown",
      "source": [
        "## Introduction"
      ],
      "metadata": {
        "id": "8UwiGMSnmQH0"
      }
    },
    {
      "cell_type": "markdown",
      "source": [
        "These are real world complaints received about products and services. Each complaint has been labeled with a specific product; therefore, this is a supervised text classification problem. With the aim to classify future complaints based on its content, you can use different deep learning algorithms to make predictions (i.e., classify the complaint in one of the product categories)"
      ],
      "metadata": {
        "id": "UDv2x9w2wmi1"
      }
    },
    {
      "cell_type": "markdown",
      "source": [
        "The goal here is to design some deep learning algorithms that classify complaints in one of the product categories."
      ],
      "metadata": {
        "id": "zAcgPTW7E3w5"
      }
    },
    {
      "cell_type": "markdown",
      "source": [
        "## Data Import"
      ],
      "metadata": {
        "id": "Cb4ejL4-mL7z"
      }
    },
    {
      "cell_type": "code",
      "source": [
        "import pandas as pd\n",
        "data1 = pd.read_csv(\"https://raw.githubusercontent.com/fabnancyuhp/DEEP-LEARNING/main/DATA/consumer_complaints1.csv\")\n",
        "data2 = pd.read_csv(\"https://raw.githubusercontent.com/fabnancyuhp/DEEP-LEARNING/main/DATA/consumer_complaints2.csv\")\n",
        "data3 = pd.read_csv(\"https://raw.githubusercontent.com/fabnancyuhp/DEEP-LEARNING/main/DATA/consumer_complaints3.csv\")\n",
        "data4 = pd.read_csv(\"https://raw.githubusercontent.com/fabnancyuhp/DEEP-LEARNING/main/DATA/consumer_complaints4.csv\")\n",
        "\n",
        "complaints = pd.concat([data1,data2,data3,data4],axis=0)\n",
        "complaints.head(3)"
      ],
      "metadata": {
        "colab": {
          "base_uri": "https://localhost:8080/",
          "height": 277
        },
        "id": "LVvaskhEwtwQ",
        "outputId": "cd687741-c23a-435c-efd4-e63c3589350b"
      },
      "execution_count": null,
      "outputs": [
        {
          "output_type": "execute_result",
          "data": {
            "text/plain": [
              "   level_0   index date_received          product  \\\n",
              "0        0  190126    03/19/2015  Debt collection   \n",
              "1        1  190135    03/19/2015    Consumer Loan   \n",
              "2        2  190155    03/19/2015         Mortgage   \n",
              "\n",
              "                             sub_product  \\\n",
              "0  Other (i.e. phone, health club, etc.)   \n",
              "1                           Vehicle loan   \n",
              "2            Conventional fixed mortgage   \n",
              "\n",
              "                                      issue      sub_issue  \\\n",
              "0     Cont'd attempts collect debt not owed  Debt was paid   \n",
              "1                Managing the loan or lease            NaN   \n",
              "2  Loan modification,collection,foreclosure            NaN   \n",
              "\n",
              "                        consumer_complaint_narrative company_public_response  \\\n",
              "0  XXXX has claimed I owe them {$27.00} for XXXX ...                     NaN   \n",
              "1  Due to inconsistencies in the amount owed that...                     NaN   \n",
              "2  In XX/XX/XXXX my wages that I earned at my job...                     NaN   \n",
              "\n",
              "                         company state zipcode            tags  \\\n",
              "0  Diversified Consultants, Inc.    NY   121XX  Older American   \n",
              "1           M&T Bank Corporation    VA   221XX   Servicemember   \n",
              "2          Wells Fargo & Company    CA   946XX             NaN   \n",
              "\n",
              "  consumer_consent_provided submitted_via date_sent_to_company  \\\n",
              "0          Consent provided           Web           03/19/2015   \n",
              "1          Consent provided           Web           03/19/2015   \n",
              "2          Consent provided           Web           03/19/2015   \n",
              "\n",
              "  company_response_to_consumer timely_response consumer_disputed?  \\\n",
              "0      Closed with explanation             Yes                 No   \n",
              "1      Closed with explanation             Yes                 No   \n",
              "2      Closed with explanation             Yes                Yes   \n",
              "\n",
              "   complaint_id  \n",
              "0       1290516  \n",
              "1       1290492  \n",
              "2       1290524  "
            ],
            "text/html": [
              "\n",
              "  <div id=\"df-1b18b4ec-0969-4a56-b095-6a02d9f62c92\">\n",
              "    <div class=\"colab-df-container\">\n",
              "      <div>\n",
              "<style scoped>\n",
              "    .dataframe tbody tr th:only-of-type {\n",
              "        vertical-align: middle;\n",
              "    }\n",
              "\n",
              "    .dataframe tbody tr th {\n",
              "        vertical-align: top;\n",
              "    }\n",
              "\n",
              "    .dataframe thead th {\n",
              "        text-align: right;\n",
              "    }\n",
              "</style>\n",
              "<table border=\"1\" class=\"dataframe\">\n",
              "  <thead>\n",
              "    <tr style=\"text-align: right;\">\n",
              "      <th></th>\n",
              "      <th>level_0</th>\n",
              "      <th>index</th>\n",
              "      <th>date_received</th>\n",
              "      <th>product</th>\n",
              "      <th>sub_product</th>\n",
              "      <th>issue</th>\n",
              "      <th>sub_issue</th>\n",
              "      <th>consumer_complaint_narrative</th>\n",
              "      <th>company_public_response</th>\n",
              "      <th>company</th>\n",
              "      <th>state</th>\n",
              "      <th>zipcode</th>\n",
              "      <th>tags</th>\n",
              "      <th>consumer_consent_provided</th>\n",
              "      <th>submitted_via</th>\n",
              "      <th>date_sent_to_company</th>\n",
              "      <th>company_response_to_consumer</th>\n",
              "      <th>timely_response</th>\n",
              "      <th>consumer_disputed?</th>\n",
              "      <th>complaint_id</th>\n",
              "    </tr>\n",
              "  </thead>\n",
              "  <tbody>\n",
              "    <tr>\n",
              "      <th>0</th>\n",
              "      <td>0</td>\n",
              "      <td>190126</td>\n",
              "      <td>03/19/2015</td>\n",
              "      <td>Debt collection</td>\n",
              "      <td>Other (i.e. phone, health club, etc.)</td>\n",
              "      <td>Cont'd attempts collect debt not owed</td>\n",
              "      <td>Debt was paid</td>\n",
              "      <td>XXXX has claimed I owe them {$27.00} for XXXX ...</td>\n",
              "      <td>NaN</td>\n",
              "      <td>Diversified Consultants, Inc.</td>\n",
              "      <td>NY</td>\n",
              "      <td>121XX</td>\n",
              "      <td>Older American</td>\n",
              "      <td>Consent provided</td>\n",
              "      <td>Web</td>\n",
              "      <td>03/19/2015</td>\n",
              "      <td>Closed with explanation</td>\n",
              "      <td>Yes</td>\n",
              "      <td>No</td>\n",
              "      <td>1290516</td>\n",
              "    </tr>\n",
              "    <tr>\n",
              "      <th>1</th>\n",
              "      <td>1</td>\n",
              "      <td>190135</td>\n",
              "      <td>03/19/2015</td>\n",
              "      <td>Consumer Loan</td>\n",
              "      <td>Vehicle loan</td>\n",
              "      <td>Managing the loan or lease</td>\n",
              "      <td>NaN</td>\n",
              "      <td>Due to inconsistencies in the amount owed that...</td>\n",
              "      <td>NaN</td>\n",
              "      <td>M&amp;T Bank Corporation</td>\n",
              "      <td>VA</td>\n",
              "      <td>221XX</td>\n",
              "      <td>Servicemember</td>\n",
              "      <td>Consent provided</td>\n",
              "      <td>Web</td>\n",
              "      <td>03/19/2015</td>\n",
              "      <td>Closed with explanation</td>\n",
              "      <td>Yes</td>\n",
              "      <td>No</td>\n",
              "      <td>1290492</td>\n",
              "    </tr>\n",
              "    <tr>\n",
              "      <th>2</th>\n",
              "      <td>2</td>\n",
              "      <td>190155</td>\n",
              "      <td>03/19/2015</td>\n",
              "      <td>Mortgage</td>\n",
              "      <td>Conventional fixed mortgage</td>\n",
              "      <td>Loan modification,collection,foreclosure</td>\n",
              "      <td>NaN</td>\n",
              "      <td>In XX/XX/XXXX my wages that I earned at my job...</td>\n",
              "      <td>NaN</td>\n",
              "      <td>Wells Fargo &amp; Company</td>\n",
              "      <td>CA</td>\n",
              "      <td>946XX</td>\n",
              "      <td>NaN</td>\n",
              "      <td>Consent provided</td>\n",
              "      <td>Web</td>\n",
              "      <td>03/19/2015</td>\n",
              "      <td>Closed with explanation</td>\n",
              "      <td>Yes</td>\n",
              "      <td>Yes</td>\n",
              "      <td>1290524</td>\n",
              "    </tr>\n",
              "  </tbody>\n",
              "</table>\n",
              "</div>\n",
              "      <button class=\"colab-df-convert\" onclick=\"convertToInteractive('df-1b18b4ec-0969-4a56-b095-6a02d9f62c92')\"\n",
              "              title=\"Convert this dataframe to an interactive table.\"\n",
              "              style=\"display:none;\">\n",
              "        \n",
              "  <svg xmlns=\"http://www.w3.org/2000/svg\" height=\"24px\"viewBox=\"0 0 24 24\"\n",
              "       width=\"24px\">\n",
              "    <path d=\"M0 0h24v24H0V0z\" fill=\"none\"/>\n",
              "    <path d=\"M18.56 5.44l.94 2.06.94-2.06 2.06-.94-2.06-.94-.94-2.06-.94 2.06-2.06.94zm-11 1L8.5 8.5l.94-2.06 2.06-.94-2.06-.94L8.5 2.5l-.94 2.06-2.06.94zm10 10l.94 2.06.94-2.06 2.06-.94-2.06-.94-.94-2.06-.94 2.06-2.06.94z\"/><path d=\"M17.41 7.96l-1.37-1.37c-.4-.4-.92-.59-1.43-.59-.52 0-1.04.2-1.43.59L10.3 9.45l-7.72 7.72c-.78.78-.78 2.05 0 2.83L4 21.41c.39.39.9.59 1.41.59.51 0 1.02-.2 1.41-.59l7.78-7.78 2.81-2.81c.8-.78.8-2.07 0-2.86zM5.41 20L4 18.59l7.72-7.72 1.47 1.35L5.41 20z\"/>\n",
              "  </svg>\n",
              "      </button>\n",
              "      \n",
              "  <style>\n",
              "    .colab-df-container {\n",
              "      display:flex;\n",
              "      flex-wrap:wrap;\n",
              "      gap: 12px;\n",
              "    }\n",
              "\n",
              "    .colab-df-convert {\n",
              "      background-color: #E8F0FE;\n",
              "      border: none;\n",
              "      border-radius: 50%;\n",
              "      cursor: pointer;\n",
              "      display: none;\n",
              "      fill: #1967D2;\n",
              "      height: 32px;\n",
              "      padding: 0 0 0 0;\n",
              "      width: 32px;\n",
              "    }\n",
              "\n",
              "    .colab-df-convert:hover {\n",
              "      background-color: #E2EBFA;\n",
              "      box-shadow: 0px 1px 2px rgba(60, 64, 67, 0.3), 0px 1px 3px 1px rgba(60, 64, 67, 0.15);\n",
              "      fill: #174EA6;\n",
              "    }\n",
              "\n",
              "    [theme=dark] .colab-df-convert {\n",
              "      background-color: #3B4455;\n",
              "      fill: #D2E3FC;\n",
              "    }\n",
              "\n",
              "    [theme=dark] .colab-df-convert:hover {\n",
              "      background-color: #434B5C;\n",
              "      box-shadow: 0px 1px 3px 1px rgba(0, 0, 0, 0.15);\n",
              "      filter: drop-shadow(0px 1px 2px rgba(0, 0, 0, 0.3));\n",
              "      fill: #FFFFFF;\n",
              "    }\n",
              "  </style>\n",
              "\n",
              "      <script>\n",
              "        const buttonEl =\n",
              "          document.querySelector('#df-1b18b4ec-0969-4a56-b095-6a02d9f62c92 button.colab-df-convert');\n",
              "        buttonEl.style.display =\n",
              "          google.colab.kernel.accessAllowed ? 'block' : 'none';\n",
              "\n",
              "        async function convertToInteractive(key) {\n",
              "          const element = document.querySelector('#df-1b18b4ec-0969-4a56-b095-6a02d9f62c92');\n",
              "          const dataTable =\n",
              "            await google.colab.kernel.invokeFunction('convertToInteractive',\n",
              "                                                     [key], {});\n",
              "          if (!dataTable) return;\n",
              "\n",
              "          const docLinkHtml = 'Like what you see? Visit the ' +\n",
              "            '<a target=\"_blank\" href=https://colab.research.google.com/notebooks/data_table.ipynb>data table notebook</a>'\n",
              "            + ' to learn more about interactive tables.';\n",
              "          element.innerHTML = '';\n",
              "          dataTable['output_type'] = 'display_data';\n",
              "          await google.colab.output.renderOutput(dataTable, element);\n",
              "          const docLink = document.createElement('div');\n",
              "          docLink.innerHTML = docLinkHtml;\n",
              "          element.appendChild(docLink);\n",
              "        }\n",
              "      </script>\n",
              "    </div>\n",
              "  </div>\n",
              "  "
            ]
          },
          "metadata": {},
          "execution_count": 2
        }
      ]
    },
    {
      "cell_type": "code",
      "source": [
        "df = complaints[['product','consumer_complaint_narrative']]\n",
        "df.index = complaints['level_0']\n",
        "df.head()"
      ],
      "metadata": {
        "colab": {
          "base_uri": "https://localhost:8080/",
          "height": 238
        },
        "id": "A3kip0tSxgrQ",
        "outputId": "d895f19f-e987-4688-8d08-37c0f0379372"
      },
      "execution_count": null,
      "outputs": [
        {
          "output_type": "execute_result",
          "data": {
            "text/plain": [
              "                 product                       consumer_complaint_narrative\n",
              "level_0                                                                    \n",
              "0        Debt collection  XXXX has claimed I owe them {$27.00} for XXXX ...\n",
              "1          Consumer Loan  Due to inconsistencies in the amount owed that...\n",
              "2               Mortgage  In XX/XX/XXXX my wages that I earned at my job...\n",
              "3               Mortgage  I have an open and current mortgage with Chase...\n",
              "4               Mortgage  XXXX was submitted XX/XX/XXXX. At the time I s..."
            ],
            "text/html": [
              "\n",
              "  <div id=\"df-bb4a9c09-07c1-47b7-b82f-0ecb7f29fb50\">\n",
              "    <div class=\"colab-df-container\">\n",
              "      <div>\n",
              "<style scoped>\n",
              "    .dataframe tbody tr th:only-of-type {\n",
              "        vertical-align: middle;\n",
              "    }\n",
              "\n",
              "    .dataframe tbody tr th {\n",
              "        vertical-align: top;\n",
              "    }\n",
              "\n",
              "    .dataframe thead th {\n",
              "        text-align: right;\n",
              "    }\n",
              "</style>\n",
              "<table border=\"1\" class=\"dataframe\">\n",
              "  <thead>\n",
              "    <tr style=\"text-align: right;\">\n",
              "      <th></th>\n",
              "      <th>product</th>\n",
              "      <th>consumer_complaint_narrative</th>\n",
              "    </tr>\n",
              "    <tr>\n",
              "      <th>level_0</th>\n",
              "      <th></th>\n",
              "      <th></th>\n",
              "    </tr>\n",
              "  </thead>\n",
              "  <tbody>\n",
              "    <tr>\n",
              "      <th>0</th>\n",
              "      <td>Debt collection</td>\n",
              "      <td>XXXX has claimed I owe them {$27.00} for XXXX ...</td>\n",
              "    </tr>\n",
              "    <tr>\n",
              "      <th>1</th>\n",
              "      <td>Consumer Loan</td>\n",
              "      <td>Due to inconsistencies in the amount owed that...</td>\n",
              "    </tr>\n",
              "    <tr>\n",
              "      <th>2</th>\n",
              "      <td>Mortgage</td>\n",
              "      <td>In XX/XX/XXXX my wages that I earned at my job...</td>\n",
              "    </tr>\n",
              "    <tr>\n",
              "      <th>3</th>\n",
              "      <td>Mortgage</td>\n",
              "      <td>I have an open and current mortgage with Chase...</td>\n",
              "    </tr>\n",
              "    <tr>\n",
              "      <th>4</th>\n",
              "      <td>Mortgage</td>\n",
              "      <td>XXXX was submitted XX/XX/XXXX. At the time I s...</td>\n",
              "    </tr>\n",
              "  </tbody>\n",
              "</table>\n",
              "</div>\n",
              "      <button class=\"colab-df-convert\" onclick=\"convertToInteractive('df-bb4a9c09-07c1-47b7-b82f-0ecb7f29fb50')\"\n",
              "              title=\"Convert this dataframe to an interactive table.\"\n",
              "              style=\"display:none;\">\n",
              "        \n",
              "  <svg xmlns=\"http://www.w3.org/2000/svg\" height=\"24px\"viewBox=\"0 0 24 24\"\n",
              "       width=\"24px\">\n",
              "    <path d=\"M0 0h24v24H0V0z\" fill=\"none\"/>\n",
              "    <path d=\"M18.56 5.44l.94 2.06.94-2.06 2.06-.94-2.06-.94-.94-2.06-.94 2.06-2.06.94zm-11 1L8.5 8.5l.94-2.06 2.06-.94-2.06-.94L8.5 2.5l-.94 2.06-2.06.94zm10 10l.94 2.06.94-2.06 2.06-.94-2.06-.94-.94-2.06-.94 2.06-2.06.94z\"/><path d=\"M17.41 7.96l-1.37-1.37c-.4-.4-.92-.59-1.43-.59-.52 0-1.04.2-1.43.59L10.3 9.45l-7.72 7.72c-.78.78-.78 2.05 0 2.83L4 21.41c.39.39.9.59 1.41.59.51 0 1.02-.2 1.41-.59l7.78-7.78 2.81-2.81c.8-.78.8-2.07 0-2.86zM5.41 20L4 18.59l7.72-7.72 1.47 1.35L5.41 20z\"/>\n",
              "  </svg>\n",
              "      </button>\n",
              "      \n",
              "  <style>\n",
              "    .colab-df-container {\n",
              "      display:flex;\n",
              "      flex-wrap:wrap;\n",
              "      gap: 12px;\n",
              "    }\n",
              "\n",
              "    .colab-df-convert {\n",
              "      background-color: #E8F0FE;\n",
              "      border: none;\n",
              "      border-radius: 50%;\n",
              "      cursor: pointer;\n",
              "      display: none;\n",
              "      fill: #1967D2;\n",
              "      height: 32px;\n",
              "      padding: 0 0 0 0;\n",
              "      width: 32px;\n",
              "    }\n",
              "\n",
              "    .colab-df-convert:hover {\n",
              "      background-color: #E2EBFA;\n",
              "      box-shadow: 0px 1px 2px rgba(60, 64, 67, 0.3), 0px 1px 3px 1px rgba(60, 64, 67, 0.15);\n",
              "      fill: #174EA6;\n",
              "    }\n",
              "\n",
              "    [theme=dark] .colab-df-convert {\n",
              "      background-color: #3B4455;\n",
              "      fill: #D2E3FC;\n",
              "    }\n",
              "\n",
              "    [theme=dark] .colab-df-convert:hover {\n",
              "      background-color: #434B5C;\n",
              "      box-shadow: 0px 1px 3px 1px rgba(0, 0, 0, 0.15);\n",
              "      filter: drop-shadow(0px 1px 2px rgba(0, 0, 0, 0.3));\n",
              "      fill: #FFFFFF;\n",
              "    }\n",
              "  </style>\n",
              "\n",
              "      <script>\n",
              "        const buttonEl =\n",
              "          document.querySelector('#df-bb4a9c09-07c1-47b7-b82f-0ecb7f29fb50 button.colab-df-convert');\n",
              "        buttonEl.style.display =\n",
              "          google.colab.kernel.accessAllowed ? 'block' : 'none';\n",
              "\n",
              "        async function convertToInteractive(key) {\n",
              "          const element = document.querySelector('#df-bb4a9c09-07c1-47b7-b82f-0ecb7f29fb50');\n",
              "          const dataTable =\n",
              "            await google.colab.kernel.invokeFunction('convertToInteractive',\n",
              "                                                     [key], {});\n",
              "          if (!dataTable) return;\n",
              "\n",
              "          const docLinkHtml = 'Like what you see? Visit the ' +\n",
              "            '<a target=\"_blank\" href=https://colab.research.google.com/notebooks/data_table.ipynb>data table notebook</a>'\n",
              "            + ' to learn more about interactive tables.';\n",
              "          element.innerHTML = '';\n",
              "          dataTable['output_type'] = 'display_data';\n",
              "          await google.colab.output.renderOutput(dataTable, element);\n",
              "          const docLink = document.createElement('div');\n",
              "          docLink.innerHTML = docLinkHtml;\n",
              "          element.appendChild(docLink);\n",
              "        }\n",
              "      </script>\n",
              "    </div>\n",
              "  </div>\n",
              "  "
            ]
          },
          "metadata": {},
          "execution_count": 42
        }
      ]
    },
    {
      "cell_type": "markdown",
      "source": [
        "## Product Distribution"
      ],
      "metadata": {
        "id": "noLgXkUJDvTM"
      }
    },
    {
      "cell_type": "code",
      "source": [
        "import numpy as np, pandas as pd, matplotlib.pyplot as plt, seaborn as sns\n",
        "import nltk, re\n",
        "from wordcloud import WordCloud\n",
        "\n",
        "plt.figure(figsize=(10,6))\n",
        "plt.xticks(rotation = 45)\n",
        "sns.countplot(x='product',data=df)"
      ],
      "metadata": {
        "colab": {
          "base_uri": "https://localhost:8080/",
          "height": 488
        },
        "id": "4aefdFhyDcnH",
        "outputId": "4cf82058-ded8-4e0f-ac96-dda8fb7d4af2"
      },
      "execution_count": null,
      "outputs": [
        {
          "output_type": "execute_result",
          "data": {
            "text/plain": [
              "<matplotlib.axes._subplots.AxesSubplot at 0x7f28bff3bb90>"
            ]
          },
          "metadata": {},
          "execution_count": 43
        },
        {
          "output_type": "display_data",
          "data": {
            "text/plain": [
              "<Figure size 720x432 with 1 Axes>"
            ],
            "image/png": "[encoded data removed]"
          },
          "metadata": {
            "needs_background": "light"
          }
        }
      ]
    },
    {
      "cell_type": "markdown",
      "source": [
        "## Product encodage"
      ],
      "metadata": {
        "id": "MOXnBTeXD2Ux"
      }
    },
    {
      "cell_type": "code",
      "source": [
        "from sklearn.preprocessing import LabelEncoder\n",
        "le = LabelEncoder()\n",
        "le.fit(df['product'].unique())\n",
        "\n",
        "df['product'] = le.transform(df['product'])\n",
        "le.inverse_transform([0,1,2,3,4,5,6,7,8,9,10])"
      ],
      "metadata": {
        "colab": {
          "base_uri": "https://localhost:8080/"
        },
        "id": "X6aXaCdFD1yr",
        "outputId": "903e0fb2-6030-40c2-d9ba-6c6b09f749a4"
      },
      "execution_count": null,
      "outputs": [
        {
          "output_type": "stream",
          "name": "stderr",
          "text": [
            "/usr/local/lib/python3.7/dist-packages/ipykernel_launcher.py:5: SettingWithCopyWarning: \n",
            "A value is trying to be set on a copy of a slice from a DataFrame.\n",
            "Try using .loc[row_indexer,col_indexer] = value instead\n",
            "\n",
            "See the caveats in the documentation: https://pandas.pydata.org/pandas-docs/stable/user_guide/indexing.html#returning-a-view-versus-a-copy\n",
            "  \"\"\"\n"
          ]
        },
        {
          "output_type": "execute_result",
          "data": {
            "text/plain": [
              "array(['Bank account or service', 'Consumer Loan', 'Credit card',\n",
              "       'Credit reporting', 'Debt collection', 'Money transfers',\n",
              "       'Mortgage', 'Other financial service', 'Payday loan',\n",
              "       'Prepaid card', 'Student loan'], dtype=object)"
            ]
          },
          "metadata": {},
          "execution_count": 38
        }
      ]
    },
    {
      "cell_type": "markdown",
      "source": [
        "## Text Cleaning"
      ],
      "metadata": {
        "id": "n8cFNEgyGSuq"
      }
    },
    {
      "cell_type": "code",
      "source": [
        "import re\n",
        "\n",
        "#Removes Punctuations\n",
        "def remove_punctuations(data):\n",
        "    punct_tag=re.compile(r'[^\\w\\s]')\n",
        "    data=punct_tag.sub(r'',data)\n",
        "    return data\n",
        "\n",
        "#Removes HTML syntaxes\n",
        "def remove_html(data):\n",
        "    html_tag=re.compile(r'<.*?>')\n",
        "    data=html_tag.sub(r'',data)\n",
        "    return data\n",
        "\n",
        "\n",
        "#Removes URL data\n",
        "def _remove_urls(x):\n",
        "    return re.sub(r'(http|https|ftp|ssh)://([\\w_-]+(?:(?:\\.[\\w_-]+)+))([\\w.,@?^=%&:/~+#-]*[\\w@?^=%&/~+#-])?', '' , x)\n",
        "\n",
        "\n",
        "#Removes dups char\n",
        "def _remove_dups_char(x):\n",
        "    x = re.sub(\"(.)\\\\1{2,}\", \"\\\\1\", x)\n",
        "    return x\n",
        "\n",
        "\n",
        "#Removes emails\n",
        "def _remove_emails(x):\n",
        "    return re.sub(r'([a-z0-9+._-]+@[a-z0-9+._-]+\\.[a-z0-9+_-]+)',\"\", x)\n",
        "\n",
        "\n",
        "def _remove_rt(x):\n",
        "    return re.sub(r'\\brt\\b', '', x).strip()\n",
        "\n",
        "def _remove_special_chars(x):\n",
        "    x = re.sub(r'[^\\w ]+', \"\", x)\n",
        "    x = ' '.join(x.split())\n",
        "    return x"
      ],
      "metadata": {
        "id": "RebddqTCCGVH"
      },
      "execution_count": null,
      "outputs": []
    },
    {
      "cell_type": "code",
      "source": [
        "df['consumer_complaint_narrative'] = df['consumer_complaint_narrative'].apply(lambda x:str(x).replace('X', ''))\n",
        "df['consumer_complaint_narrative'] = df['consumer_complaint_narrative'].apply(lambda x:str(x).lower().replace('_', ' '))\n",
        "\n",
        "df['consumer_complaint_narrative'] = df['consumer_complaint_narrative'].apply(lambda x:remove_html(str(x)))\n",
        "df['consumer_complaint_narrative'] = df['consumer_complaint_narrative'].apply(lambda x:_remove_urls(str(x)))\n",
        "df['consumer_complaint_narrative'] = df['consumer_complaint_narrative'].apply(lambda x:remove_punctuations(str(x)))\n",
        "df['consumer_complaint_narrative'] = df['consumer_complaint_narrative'].apply(lambda x:_remove_emails(str(x)))\n",
        "df['consumer_complaint_narrative'] = df['consumer_complaint_narrative'].apply(lambda x:_remove_rt(str(x)))\n",
        "df['consumer_complaint_narrative'] = df['consumer_complaint_narrative'].apply(lambda x:_remove_special_chars(str(x)))"
      ],
      "metadata": {
        "id": "X65YW-mdEEYS"
      },
      "execution_count": null,
      "outputs": []
    },
    {
      "cell_type": "code",
      "source": [
        "df.head()"
      ],
      "metadata": {
        "colab": {
          "base_uri": "https://localhost:8080/",
          "height": 238
        },
        "id": "yT-4Ra7cfzwP",
        "outputId": "77fcae91-3e73-462d-b2fa-5fbccaa288cb"
      },
      "execution_count": null,
      "outputs": [
        {
          "output_type": "execute_result",
          "data": {
            "text/plain": [
              "         product                       consumer_complaint_narrative\n",
              "level_0                                                            \n",
              "0              4  has claimed i owe them 2700 for years despite ...\n",
              "1              1  due to inconsistencies in the amount owed that...\n",
              "2              6  in my wages that i earned at my job decreased ...\n",
              "3              6  i have an open and current mortgage with chase...\n",
              "4              6  was submitted at the time i submitted this com..."
            ],
            "text/html": [
              "\n",
              "  <div id=\"df-96290b84-426d-440a-bb83-325cd85d7763\">\n",
              "    <div class=\"colab-df-container\">\n",
              "      <div>\n",
              "<style scoped>\n",
              "    .dataframe tbody tr th:only-of-type {\n",
              "        vertical-align: middle;\n",
              "    }\n",
              "\n",
              "    .dataframe tbody tr th {\n",
              "        vertical-align: top;\n",
              "    }\n",
              "\n",
              "    .dataframe thead th {\n",
              "        text-align: right;\n",
              "    }\n",
              "</style>\n",
              "<table border=\"1\" class=\"dataframe\">\n",
              "  <thead>\n",
              "    <tr style=\"text-align: right;\">\n",
              "      <th></th>\n",
              "      <th>product</th>\n",
              "      <th>consumer_complaint_narrative</th>\n",
              "    </tr>\n",
              "    <tr>\n",
              "      <th>level_0</th>\n",
              "      <th></th>\n",
              "      <th></th>\n",
              "    </tr>\n",
              "  </thead>\n",
              "  <tbody>\n",
              "    <tr>\n",
              "      <th>0</th>\n",
              "      <td>4</td>\n",
              "      <td>has claimed i owe them 2700 for years despite ...</td>\n",
              "    </tr>\n",
              "    <tr>\n",
              "      <th>1</th>\n",
              "      <td>1</td>\n",
              "      <td>due to inconsistencies in the amount owed that...</td>\n",
              "    </tr>\n",
              "    <tr>\n",
              "      <th>2</th>\n",
              "      <td>6</td>\n",
              "      <td>in my wages that i earned at my job decreased ...</td>\n",
              "    </tr>\n",
              "    <tr>\n",
              "      <th>3</th>\n",
              "      <td>6</td>\n",
              "      <td>i have an open and current mortgage with chase...</td>\n",
              "    </tr>\n",
              "    <tr>\n",
              "      <th>4</th>\n",
              "      <td>6</td>\n",
              "      <td>was submitted at the time i submitted this com...</td>\n",
              "    </tr>\n",
              "  </tbody>\n",
              "</table>\n",
              "</div>\n",
              "      <button class=\"colab-df-convert\" onclick=\"convertToInteractive('df-96290b84-426d-440a-bb83-325cd85d7763')\"\n",
              "              title=\"Convert this dataframe to an interactive table.\"\n",
              "              style=\"display:none;\">\n",
              "        \n",
              "  <svg xmlns=\"http://www.w3.org/2000/svg\" height=\"24px\"viewBox=\"0 0 24 24\"\n",
              "       width=\"24px\">\n",
              "    <path d=\"M0 0h24v24H0V0z\" fill=\"none\"/>\n",
              "    <path d=\"M18.56 5.44l.94 2.06.94-2.06 2.06-.94-2.06-.94-.94-2.06-.94 2.06-2.06.94zm-11 1L8.5 8.5l.94-2.06 2.06-.94-2.06-.94L8.5 2.5l-.94 2.06-2.06.94zm10 10l.94 2.06.94-2.06 2.06-.94-2.06-.94-.94-2.06-.94 2.06-2.06.94z\"/><path d=\"M17.41 7.96l-1.37-1.37c-.4-.4-.92-.59-1.43-.59-.52 0-1.04.2-1.43.59L10.3 9.45l-7.72 7.72c-.78.78-.78 2.05 0 2.83L4 21.41c.39.39.9.59 1.41.59.51 0 1.02-.2 1.41-.59l7.78-7.78 2.81-2.81c.8-.78.8-2.07 0-2.86zM5.41 20L4 18.59l7.72-7.72 1.47 1.35L5.41 20z\"/>\n",
              "  </svg>\n",
              "      </button>\n",
              "      \n",
              "  <style>\n",
              "    .colab-df-container {\n",
              "      display:flex;\n",
              "      flex-wrap:wrap;\n",
              "      gap: 12px;\n",
              "    }\n",
              "\n",
              "    .colab-df-convert {\n",
              "      background-color: #E8F0FE;\n",
              "      border: none;\n",
              "      border-radius: 50%;\n",
              "      cursor: pointer;\n",
              "      display: none;\n",
              "      fill: #1967D2;\n",
              "      height: 32px;\n",
              "      padding: 0 0 0 0;\n",
              "      width: 32px;\n",
              "    }\n",
              "\n",
              "    .colab-df-convert:hover {\n",
              "      background-color: #E2EBFA;\n",
              "      box-shadow: 0px 1px 2px rgba(60, 64, 67, 0.3), 0px 1px 3px 1px rgba(60, 64, 67, 0.15);\n",
              "      fill: #174EA6;\n",
              "    }\n",
              "\n",
              "    [theme=dark] .colab-df-convert {\n",
              "      background-color: #3B4455;\n",
              "      fill: #D2E3FC;\n",
              "    }\n",
              "\n",
              "    [theme=dark] .colab-df-convert:hover {\n",
              "      background-color: #434B5C;\n",
              "      box-shadow: 0px 1px 3px 1px rgba(0, 0, 0, 0.15);\n",
              "      filter: drop-shadow(0px 1px 2px rgba(0, 0, 0, 0.3));\n",
              "      fill: #FFFFFF;\n",
              "    }\n",
              "  </style>\n",
              "\n",
              "      <script>\n",
              "        const buttonEl =\n",
              "          document.querySelector('#df-96290b84-426d-440a-bb83-325cd85d7763 button.colab-df-convert');\n",
              "        buttonEl.style.display =\n",
              "          google.colab.kernel.accessAllowed ? 'block' : 'none';\n",
              "\n",
              "        async function convertToInteractive(key) {\n",
              "          const element = document.querySelector('#df-96290b84-426d-440a-bb83-325cd85d7763');\n",
              "          const dataTable =\n",
              "            await google.colab.kernel.invokeFunction('convertToInteractive',\n",
              "                                                     [key], {});\n",
              "          if (!dataTable) return;\n",
              "\n",
              "          const docLinkHtml = 'Like what you see? Visit the ' +\n",
              "            '<a target=\"_blank\" href=https://colab.research.google.com/notebooks/data_table.ipynb>data table notebook</a>'\n",
              "            + ' to learn more about interactive tables.';\n",
              "          element.innerHTML = '';\n",
              "          dataTable['output_type'] = 'display_data';\n",
              "          await google.colab.output.renderOutput(dataTable, element);\n",
              "          const docLink = document.createElement('div');\n",
              "          docLink.innerHTML = docLinkHtml;\n",
              "          element.appendChild(docLink);\n",
              "        }\n",
              "      </script>\n",
              "    </div>\n",
              "  </div>\n",
              "  "
            ]
          },
          "metadata": {},
          "execution_count": 41
        }
      ]
    },
    {
      "cell_type": "markdown",
      "source": [
        "## Text tokenization"
      ],
      "metadata": {
        "id": "oO0i1UsUJfS7"
      }
    },
    {
      "cell_type": "code",
      "source": [
        "from tensorflow.keras.preprocessing.text import Tokenizer\n",
        "from tensorflow.keras.preprocessing.sequence import pad_sequences\n",
        "\n",
        "tokenizer = Tokenizer()\n",
        "\n",
        "X = [text.split() for text in list(df['consumer_complaint_narrative'])]\n",
        "tokenizer.fit_on_texts(X)\n",
        "\n",
        "XBIS = tokenizer.texts_to_sequences(X)\n",
        "XTIER = pad_sequences(XBIS,maxlen=1000)"
      ],
      "metadata": {
        "id": "g1Uu2aZgIKAR"
      },
      "execution_count": null,
      "outputs": []
    },
    {
      "cell_type": "code",
      "source": [
        "vocab_size = len(tokenizer.word_index)+1\n",
        "print(vocab_size)"
      ],
      "metadata": {
        "colab": {
          "base_uri": "https://localhost:8080/"
        },
        "id": "4-9kMuSHK9z2",
        "outputId": "52372aab-2265-487b-dbe8-d1b9e22531e2"
      },
      "execution_count": null,
      "outputs": [
        {
          "output_type": "stream",
          "name": "stdout",
          "text": [
            "67812\n"
          ]
        }
      ]
    },
    {
      "cell_type": "markdown",
      "source": [
        "## Splitting the dataset"
      ],
      "metadata": {
        "id": "3x8GgHMfL_a3"
      }
    },
    {
      "cell_type": "code",
      "source": [
        "from tensorflow.keras.utils import to_categorical\n",
        "\n",
        "Y_CAT = to_categorical(df['product'].values,num_classes=11)\n",
        "Y_CAT"
      ],
      "metadata": {
        "colab": {
          "base_uri": "https://localhost:8080/"
        },
        "id": "-W4D4xpLL8g9",
        "outputId": "01fc2cbc-d051-4727-ff54-f6675f2cdc10"
      },
      "execution_count": null,
      "outputs": [
        {
          "output_type": "execute_result",
          "data": {
            "text/plain": [
              "array([[0., 0., 0., ..., 0., 0., 0.],\n",
              "       [0., 1., 0., ..., 0., 0., 0.],\n",
              "       [0., 0., 0., ..., 0., 0., 0.],\n",
              "       ...,\n",
              "       [0., 0., 0., ..., 1., 0., 0.],\n",
              "       [0., 0., 0., ..., 0., 0., 0.],\n",
              "       [0., 0., 0., ..., 0., 0., 0.]], dtype=float32)"
            ]
          },
          "metadata": {},
          "execution_count": 10
        }
      ]
    },
    {
      "cell_type": "code",
      "source": [
        "from sklearn.model_selection import train_test_split\n",
        "X_train, X_test, y_train, y_test = train_test_split(XTIER,Y_CAT,test_size=0.25, random_state=42)"
      ],
      "metadata": {
        "id": "0g9NR7UzMjlP"
      },
      "execution_count": null,
      "outputs": []
    },
    {
      "cell_type": "markdown",
      "source": [
        "## Single LSTM Layer"
      ],
      "metadata": {
        "id": "Xtma2CEyNMTh"
      }
    },
    {
      "cell_type": "code",
      "source": [
        "from tensorflow.keras.layers import Dense, LSTM, Embedding\n",
        "from tensorflow.keras.models import Sequential\n",
        "\n",
        "product_single = Sequential()\n",
        "product_single.add(Embedding(input_dim=vocab_size,output_dim=100))\n",
        "product_single.add(LSTM(units=128))\n",
        "product_single.add(Dense(11,activation='softmax'))\n",
        "\n",
        "product_single.compile(optimizer='adam',loss='categorical_crossentropy',metrics=['acc'])"
      ],
      "metadata": {
        "id": "tTC8ECIfNP5Y"
      },
      "execution_count": null,
      "outputs": []
    },
    {
      "cell_type": "code",
      "source": [
        "product_single.fit(X_train,y_train,epochs=1)\n",
        "product_single.evaluate(X_test,y_test)"
      ],
      "metadata": {
        "colab": {
          "base_uri": "https://localhost:8080/"
        },
        "id": "xke7SkDyNVDY",
        "outputId": "44fa86b2-60c1-4e27-a275-083d12a43e0f"
      },
      "execution_count": null,
      "outputs": [
        {
          "output_type": "stream",
          "name": "stdout",
          "text": [
            "1566/1566 [==============================] - 1798s 1s/step - loss: 1.4592 - acc: 0.5231\n",
            "522/522 [==============================] - 131s 250ms/step - loss: 1.0209 - acc: 0.6727\n"
          ]
        },
        {
          "output_type": "execute_result",
          "data": {
            "text/plain": [
              "[1.0209169387817383, 0.6726739406585693]"
            ]
          },
          "metadata": {},
          "execution_count": 110
        }
      ]
    },
    {
      "cell_type": "code",
      "source": [
        "y_pred = product_single.predict(X_test)"
      ],
      "metadata": {
        "id": "SjXWAdExVqv_"
      },
      "execution_count": null,
      "outputs": []
    },
    {
      "cell_type": "code",
      "source": [
        "predict = np.argmax(y_pred, axis=1)\n",
        "real = np.argmax(y_test, axis=1)\n",
        "\n",
        "from sklearn.metrics import accuracy_score\n",
        "\n",
        "print('There is ' + str(round(accuracy_score(predict,real)*100,2)) + ' % of good predictions on the test set.')"
      ],
      "metadata": {
        "colab": {
          "base_uri": "https://localhost:8080/"
        },
        "id": "EKSZQiStX4Pw",
        "outputId": "a18ff988-6963-4f61-8bc0-a62e74167752"
      },
      "execution_count": null,
      "outputs": [
        {
          "output_type": "stream",
          "name": "stdout",
          "text": [
            "There is 67.27 % of good predictions on the test set.\n"
          ]
        }
      ]
    },
    {
      "cell_type": "markdown",
      "source": [
        "### Predict one complaint in particular"
      ],
      "metadata": {
        "id": "4SjcqBMZaq04"
      }
    },
    {
      "cell_type": "code",
      "source": [
        "comp = df['consumer_complaint_narrative'][998]\n",
        "comp = [comp.split()]\n",
        "comp = tokenizer.texts_to_sequences(comp)\n",
        "comp = pad_sequences(comp,maxlen=1000)\n",
        "\n",
        "proba_predict = product_single.predict(comp)\n",
        "print('COMPLAIN CHOOSEN : ' + df['consumer_complaint_narrative'][998]+'\\n')\n",
        "print(\"Real product : \"+ str(le.inverse_transform([df['product'][998]])[0]) +\", Predicted product : \"+str(le.inverse_transform([np.argmax(proba_predict)])[0]))"
      ],
      "metadata": {
        "colab": {
          "base_uri": "https://localhost:8080/"
        },
        "id": "dNSNx7LeaLkf",
        "outputId": "06cf71c0-12a4-4139-a4da-d720a2c47324"
      },
      "execution_count": null,
      "outputs": [
        {
          "output_type": "stream",
          "name": "stdout",
          "text": [
            "COMPLAIN CHOOSEN : we received a tax abatement and our escrow payment and balance is not realistic for what needs to be paid the company will not review the escrow until sometime which is not fair this is frustrating because we pay on time and pay extra each month to reduce the principal\n",
            "\n",
            "Real product : Mortgage, Predicted product : Mortgage\n"
          ]
        }
      ]
    },
    {
      "cell_type": "markdown",
      "source": [
        "## Neural Network with multiple LSTM"
      ],
      "metadata": {
        "id": "-D29TIVfd6p4"
      }
    },
    {
      "cell_type": "code",
      "source": [
        "from tensorflow.keras.layers import Dense, LSTM, Embedding, Bidirectional, Dropout, BatchNormalization\n",
        "from tensorflow.keras.models import Sequential\n",
        "\n",
        "\n",
        "vocab_size = len(tokenizer.word_index)+1\n",
        "\n",
        "\n",
        "multi_lstm = Sequential()\n",
        "multi_lstm.add(Embedding(input_dim=vocab_size,output_dim=100))\n",
        "multi_lstm.add(LSTM(50,return_sequences=True))\n",
        "multi_lstm.add(Dropout(0.2))\n",
        "multi_lstm.add(LSTM(32,return_sequences=True))\n",
        "multi_lstm.add(BatchNormalization())\n",
        "multi_lstm.add(LSTM(16))\n",
        "multi_lstm.add(Dense(11,activation='softmax'))\n",
        "\n",
        "multi_lstm.compile(optimizer='adam',loss='categorical_crossentropy',metrics=['acc'])"
      ],
      "metadata": {
        "id": "kGRiJ0edd50Y"
      },
      "execution_count": null,
      "outputs": []
    },
    {
      "cell_type": "code",
      "source": [
        "multi_lstm.fit(X_train,y_train,epochs=1)\n",
        "multi_lstm.evaluate(X_test,y_test)"
      ],
      "metadata": {
        "colab": {
          "base_uri": "https://localhost:8080/"
        },
        "id": "O14G87RserPN",
        "outputId": "0ee2c716-5819-42af-e75d-5fbbf69d81c3"
      },
      "execution_count": null,
      "outputs": [
        {
          "output_type": "stream",
          "name": "stdout",
          "text": [
            "1566/1566 [==============================] - 2205s 1s/step - loss: 1.2589 - acc: 0.6003\n",
            "522/522 [==============================] - 115s 217ms/step - loss: 0.9621 - acc: 0.6938\n"
          ]
        },
        {
          "output_type": "execute_result",
          "data": {
            "text/plain": [
              "[0.962141215801239, 0.6938091516494751]"
            ]
          },
          "metadata": {},
          "execution_count": 166
        }
      ]
    },
    {
      "cell_type": "code",
      "source": [
        "y_pred = multi_lstm.predict(X_test)"
      ],
      "metadata": {
        "id": "jyfWW0Z5e4a-"
      },
      "execution_count": null,
      "outputs": []
    },
    {
      "cell_type": "code",
      "source": [
        "predict = np.argmax(y_pred, axis=1)\n",
        "real = np.argmax(y_test, axis=1)\n",
        "\n",
        "from sklearn.metrics import accuracy_score\n",
        "\n",
        "print('There is ' + str(round(accuracy_score(predict,real)*100,2)) + ' % of good predictions on the test set.')"
      ],
      "metadata": {
        "colab": {
          "base_uri": "https://localhost:8080/"
        },
        "id": "itB_-w_7e8jI",
        "outputId": "bf06a09e-9f03-47de-a622-8e876ecd7c9c"
      },
      "execution_count": null,
      "outputs": [
        {
          "output_type": "stream",
          "name": "stdout",
          "text": [
            "There is 69.38 % of good predictions on the test set.\n"
          ]
        }
      ]
    },
    {
      "cell_type": "markdown",
      "source": [
        "### Predict one complaint in particular"
      ],
      "metadata": {
        "id": "IUsvONU6e__Y"
      }
    },
    {
      "cell_type": "code",
      "source": [
        "comp = df['consumer_complaint_narrative'][992]\n",
        "comp = [comp.split()]\n",
        "comp = tokenizer.texts_to_sequences(comp)\n",
        "comp = pad_sequences(comp,maxlen=1000)\n",
        "\n",
        "proba_predict = multi_lstm.predict(comp)\n",
        "print('COMPLAIN CHOOSEN : ' + df['consumer_complaint_narrative'][992]+'\\n')\n",
        "print(\"Real product : \"+ str(le.inverse_transform([df['product'][992]])[0]) +\", Predicted product : \"+str(le.inverse_transform([np.argmax(proba_predict)])[0]))"
      ],
      "metadata": {
        "colab": {
          "base_uri": "https://localhost:8080/"
        },
        "id": "lZmx1TfxfCBE",
        "outputId": "4198f82d-42f0-4ac4-e3ed-be5acf5250e2"
      },
      "execution_count": null,
      "outputs": [
        {
          "output_type": "stream",
          "name": "stdout",
          "text": [
            "COMPLAIN CHOOSEN : on 2015 i received a notice from equifa stating the following as you requested we successfully placed an initial fraud alert on your equifa credit line i have never requested equifa or any other bureau to place any such fraud alert on my report s by what right have they do even allege such a thing without my requesting it to be done\n",
            "\n",
            "Real product : Credit reporting, Predicted product : Credit reporting\n"
          ]
        }
      ]
    },
    {
      "cell_type": "markdown",
      "source": [
        "## CNN Model"
      ],
      "metadata": {
        "id": "OpTn2eoEMt0F"
      }
    },
    {
      "cell_type": "code",
      "source": [
        "from tensorflow.keras.models import Sequential\n",
        "from tensorflow.keras.layers import Dense, Embedding, Conv1D, GlobalMaxPooling1D\n",
        "\n",
        "embedding_dim = 100\n",
        "vocab_size = vocab_size = len(tokenizer.word_index)+1\n",
        "\n",
        "\n",
        "model_cnn = Sequential()\n",
        "model_cnn.add(Embedding(input_dim= vocab_size, output_dim=embedding_dim, input_length=1000))\n",
        "model_cnn.add(Conv1D(128, 5, activation='relu'))\n",
        "model_cnn.add(GlobalMaxPooling1D())\n",
        "model_cnn.add(Dense(10, activation='relu'))\n",
        "model_cnn.add(Dense(11, activation='sigmoid'))\n",
        "\n",
        "model_cnn.compile(optimizer='adam',loss='categorical_crossentropy',metrics=['accuracy'])"
      ],
      "metadata": {
        "id": "z1Mg7btVMweB"
      },
      "execution_count": null,
      "outputs": []
    },
    {
      "cell_type": "code",
      "source": [
        "model_cnn.fit(X_train,y_train,epochs=5)\n",
        "model_cnn.evaluate(X_test,y_test)"
      ],
      "metadata": {
        "colab": {
          "base_uri": "https://localhost:8080/"
        },
        "id": "gRU-C3MqM1yE",
        "outputId": "ea81b7bd-2dd3-425a-aeb6-cd696019a316"
      },
      "execution_count": null,
      "outputs": [
        {
          "output_type": "stream",
          "name": "stdout",
          "text": [
            "Epoch 1/5\n",
            "1566/1566 [==============================] - 567s 362ms/step - loss: 0.7584 - accuracy: 0.7623\n",
            "Epoch 2/5\n",
            "1566/1566 [==============================] - 563s 360ms/step - loss: 0.3947 - accuracy: 0.8803\n",
            "Epoch 3/5\n",
            "1566/1566 [==============================] - 560s 357ms/step - loss: 0.2560 - accuracy: 0.9226\n",
            "Epoch 4/5\n",
            "1566/1566 [==============================] - 566s 361ms/step - loss: 0.1416 - accuracy: 0.9596\n",
            "Epoch 5/5\n",
            "1566/1566 [==============================] - 571s 365ms/step - loss: 0.0672 - accuracy: 0.9826\n",
            "522/522 [==============================] - 44s 84ms/step - loss: 0.6158 - accuracy: 0.8536\n"
          ]
        },
        {
          "output_type": "execute_result",
          "data": {
            "text/plain": [
              "[0.6158164739608765, 0.8536103367805481]"
            ]
          },
          "metadata": {},
          "execution_count": 18
        }
      ]
    },
    {
      "cell_type": "code",
      "source": [
        "print('There is ' + str(round(0.8536103367805481*100,2)) + ' % of good predictions on the test set.')"
      ],
      "metadata": {
        "colab": {
          "base_uri": "https://localhost:8080/"
        },
        "id": "t_efhaxwaiqo",
        "outputId": "ea7cd100-b716-40cd-bc38-bda3b1386637"
      },
      "execution_count": null,
      "outputs": [
        {
          "output_type": "stream",
          "name": "stdout",
          "text": [
            "There is 85.36 % of good predictions on the test set.\n"
          ]
        }
      ]
    },
    {
      "cell_type": "markdown",
      "source": [
        "### Predict one complaint in particular"
      ],
      "metadata": {
        "id": "A4f4fZaIawN2"
      }
    },
    {
      "cell_type": "code",
      "source": [
        "comp = df['consumer_complaint_narrative'][2002]\n",
        "comp = [comp.split()]\n",
        "comp = tokenizer.texts_to_sequences(comp)\n",
        "comp = pad_sequences(comp,maxlen=1000)\n",
        "\n",
        "proba_predict = model_cnn.predict(comp)\n",
        "print('COMPLAIN CHOOSEN : ' + df['consumer_complaint_narrative'][2002]+'\\n')\n",
        "print(\"Real product : \"+ str(le.inverse_transform([df['product'][2002]])[0]) +\", Predicted product : \"+str(le.inverse_transform([np.argmax(proba_predict)])[0]))"
      ],
      "metadata": {
        "colab": {
          "base_uri": "https://localhost:8080/"
        },
        "id": "lGPFHEXMamiH",
        "outputId": "53aaea79-5999-46f6-8a82-a84f5060c984"
      },
      "execution_count": null,
      "outputs": [
        {
          "output_type": "stream",
          "name": "stdout",
          "text": [
            "COMPLAIN CHOOSEN : wells fargo bank mastercard upon reissuing credit card changed my name on the new card without my authorization the name on the current card is not mine rendering the card useless after months of asking the bank staff local bank mamager finally ceo to correct the error back to my name they continue to require that i submit a written change of name authorization request which i refuse to do as it sets a dangerous precedent the bank refuses to admit their error and has so far refused to either provide me with a copy of a name change authorization that erroneously changed the name on my card or to correct the name back i m at the end of my rope and prepared to persue legal action against bank\n",
            "\n",
            "Real product : Credit card, Predicted product : Credit card\n"
          ]
        }
      ]
    },
    {
      "cell_type": "markdown",
      "source": [
        "## Bidirectional LSTM Layer"
      ],
      "metadata": {
        "id": "Uh7eWm37p_l2"
      }
    },
    {
      "cell_type": "code",
      "source": [
        "from tensorflow.keras.layers import Dense, LSTM, Embedding, Bidirectional, Dropout, BatchNormalization\n",
        "from tensorflow.keras.models import Sequential\n",
        "\n",
        "DIM = 100 #the size of the emdedding vectors\n",
        "vocab_size = len(tokenizer.word_index)+1\n",
        "\n",
        "\n",
        "bidirect_lstm = Sequential()\n",
        "bidirect_lstm.add(Embedding(input_dim=vocab_size,output_dim=100,input_length=1000))\n",
        "bidirect_lstm.add(Bidirectional(LSTM(128)))\n",
        "bidirect_lstm.add(Dense(11,activation='softmax'))\n",
        "\n",
        "bidirect_lstm.compile(optimizer='adam',loss='categorical_crossentropy',metrics=['acc'])"
      ],
      "metadata": {
        "id": "hYcyRjmmqFut"
      },
      "execution_count": null,
      "outputs": []
    },
    {
      "cell_type": "code",
      "source": [
        "bidirect_lstm.fit(X_train,y_train,epochs=1)\n",
        "bidirect_lstm.evaluate(X_test,y_test)"
      ],
      "metadata": {
        "colab": {
          "base_uri": "https://localhost:8080/"
        },
        "id": "itOPz4dwqIdM",
        "outputId": "c92ea7cd-957d-4ebf-fae7-3fee567c4862"
      },
      "execution_count": null,
      "outputs": [
        {
          "output_type": "stream",
          "name": "stdout",
          "text": [
            "1566/1566 [==============================] - 3287s 2s/step - loss: 1.3911 - acc: 0.5507\n",
            "522/522 [==============================] - 219s 418ms/step - loss: 1.1626 - acc: 0.6450\n"
          ]
        },
        {
          "output_type": "execute_result",
          "data": {
            "text/plain": [
              "[1.1626211404800415, 0.6449527144432068]"
            ]
          },
          "metadata": {},
          "execution_count": 178
        }
      ]
    },
    {
      "cell_type": "code",
      "source": [
        "print('There is ' + str(round(0.6449527144432068*100,2)) + ' % of good predictions on the test set.')"
      ],
      "metadata": {
        "colab": {
          "base_uri": "https://localhost:8080/"
        },
        "id": "Ln-zaNiBug1q",
        "outputId": "8bbc63c9-9c87-4b31-8d0c-33609f95600a"
      },
      "execution_count": null,
      "outputs": [
        {
          "output_type": "stream",
          "name": "stdout",
          "text": [
            "There is 64.5 % of good predictions on the test set.\n"
          ]
        }
      ]
    },
    {
      "cell_type": "markdown",
      "source": [
        "### Predict one complaint in particular"
      ],
      "metadata": {
        "id": "yE996G1FqPqc"
      }
    },
    {
      "cell_type": "code",
      "source": [
        "comp = df['consumer_complaint_narrative'][6000]\n",
        "comp = [comp.split()]\n",
        "comp = tokenizer.texts_to_sequences(comp)\n",
        "comp = pad_sequences(comp,maxlen=1000)\n",
        "\n",
        "proba_predict = bidirect_lstm.predict(comp)\n",
        "print('COMPLAIN CHOOSEN : ' + df['consumer_complaint_narrative'][6000]+'\\n')\n",
        "print(\"Real product : \"+ str(le.inverse_transform([df['product'][6000]])[0]) +\", Predicted product : \"+str(le.inverse_transform([np.argmax(proba_predict)])[0]))"
      ],
      "metadata": {
        "colab": {
          "base_uri": "https://localhost:8080/"
        },
        "id": "MGjOtE6eqTWj",
        "outputId": "5fcb3e05-a2e6-4c17-8d15-efdd659d0037"
      },
      "execution_count": null,
      "outputs": [
        {
          "output_type": "stream",
          "name": "stdout",
          "text": [
            "COMPLAIN CHOOSEN : in i sold my interest in a company and divorced my husband who immediately moved back to he and the other partners kept the company alive while i bowed out of the picture completely on i received a letter from a collection agency stating i owe 7800000 on a line of credit they claimed i personally guaranteed they are unable to locate this supposed contract and are threatening to ruin my quite frankly perfect credit all for a debt that is not mine\n",
            "\n",
            "Real product : Debt collection, Predicted product : Debt collection\n"
          ]
        }
      ]
    },
    {
      "cell_type": "markdown",
      "source": [
        "## Conclusion"
      ],
      "metadata": {
        "id": "jG5_YQRN5Oy7"
      }
    },
    {
      "cell_type": "markdown",
      "source": [
        "To conclude, the CNN model appears to make better predictions than other models using LSTM, with an accuracy of 85% on the test set, which is promising. Therefore, this model will be retained for this project and future complaints about upcoming products."
      ],
      "metadata": {
        "id": "EWbBsQvHgxo1"
      }
    }
  ]
}